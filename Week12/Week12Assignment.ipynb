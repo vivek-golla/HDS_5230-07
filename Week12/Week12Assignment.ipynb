{
  "nbformat": 4,
  "nbformat_minor": 0,
  "metadata": {
    "colab": {
      "provenance": [],
      "authorship_tag": "ABX9TyNO9MDhpYilfFAsIxbUbV+F"
    },
    "kernelspec": {
      "name": "python3",
      "display_name": "Python 3"
    },
    "language_info": {
      "name": "python"
    }
  },
  "cells": [
    {
      "cell_type": "markdown",
      "source": [
        "# Week 12 Assignment - Neural Networks\n",
        "## Vivek Golla\n",
        "## HDS 5230 - 07"
      ],
      "metadata": {
        "id": "dG3nR5Oo7jxV"
      }
    },
    {
      "cell_type": "code",
      "execution_count": 22,
      "metadata": {
        "id": "M4eAcQwZmTMY"
      },
      "outputs": [],
      "source": [
        "import os\n",
        "import pathlib\n",
        "import sys\n",
        "import numpy as np\n",
        "import pandas as pd\n",
        "import matplotlib\n",
        "import matplotlib.pyplot as plt\n",
        "import seaborn as sns\n",
        "import tensorflow as tf\n",
        "from tensorflow import keras\n",
        "from sklearn.model_selection import train_test_split\n",
        "from sklearn.preprocessing import StandardScaler\n",
        "from tensorflow.keras.models import Sequential\n",
        "from tensorflow.keras.layers import Dense\n",
        "import time"
      ]
    },
    {
      "cell_type": "code",
      "source": [
        "#creating helper function to preprocess data which is common for all dataset sizes and configurations\n",
        "\n",
        "# Define metrics\n",
        "metrics = [tf.keras.metrics.BinaryAccuracy(name='accuracy'),\n",
        "           tf.keras.metrics.AUC(name='auc')]\n",
        "\n",
        "#helper function to preprocess data - Read relevant data, initialize X and Y arrays, Scale data, fill missing, and returns X and Y splits.\n",
        "def load_and_preprocess(path):\n",
        "    df = pd.read_csv(path)\n",
        "    df.fillna(0, inplace=True)\n",
        "    X = df.drop('outcome', axis=1).values\n",
        "    y = df['outcome'].values\n",
        "    scaler = StandardScaler()\n",
        "    X_scaled = scaler.fit_transform(X)\n",
        "    return train_test_split(X_scaled, y, test_size=0.2, random_state=42)"
      ],
      "metadata": {
        "id": "WbI1rGzvmWdT"
      },
      "execution_count": 23,
      "outputs": []
    },
    {
      "cell_type": "code",
      "source": [
        "#initialize results list\n",
        "results = []\n",
        "\n",
        "#this function fits the deep learning model\n",
        "#logistic regression classifier using sigmoid activation function for binary classification\n",
        "def run_experiment(datafile, layers_config, epochs=50, batch_size=32):\n",
        "    X_train, X_val, y_train, y_val = load_and_preprocess(datafile)\n",
        "\n",
        "    model = Sequential()\n",
        "    model.add(Dense(layers_config[0], activation='sigmoid', input_dim=X_train.shape[1]))\n",
        "    for nodes in layers_config[1:]:\n",
        "        model.add(Dense(nodes, activation='sigmoid'))\n",
        "    model.add(Dense(1, activation='sigmoid'))\n",
        "\n",
        "    model.compile(optimizer='rmsprop', loss='binary_crossentropy', metrics=metrics)\n",
        "\n",
        "    start = time.time()\n",
        "    history = model.fit(X_train, y_train, epochs=epochs, batch_size=batch_size,\n",
        "                        validation_data=(X_val, y_val), verbose=0)\n",
        "    end = time.time()\n",
        "\n",
        "    train_error = 1 - history.history['accuracy'][-1]\n",
        "    val_error = 1 - history.history['val_accuracy'][-1]\n",
        "    exec_time = end - start\n",
        "    #adding output to the results list\n",
        "    results.append({\n",
        "        \"Data Size\": datafile.split('_')[1].split('.')[0],\n",
        "        \"Layers\": f\"{len(layers_config)} x {layers_config[0]}\",\n",
        "        \"Train Error\": round(train_error, 4),\n",
        "        \"Validation Error\": round(val_error, 4),\n",
        "        \"Execution Time (s)\": round(exec_time, 2)\n",
        "    })"
      ],
      "metadata": {
        "id": "q7FIb4f8meN8"
      },
      "execution_count": 24,
      "outputs": []
    },
    {
      "cell_type": "code",
      "source": [
        "run_experiment(\"synthetic_1000.csv\", [4])\n",
        "run_experiment(\"synthetic_10000.csv\", [4])\n",
        "run_experiment(\"synthetic_100000.csv\", [4], batch_size=64)\n",
        "\n",
        "run_experiment(\"synthetic_1000.csv\", [4, 4])\n",
        "run_experiment(\"synthetic_10000.csv\", [4, 4])\n",
        "run_experiment(\"synthetic_100000.csv\", [4, 4], batch_size=64)"
      ],
      "metadata": {
        "colab": {
          "base_uri": "https://localhost:8080/"
        },
        "id": "l-vUMLmmnk32",
        "outputId": "65b98251-bcb3-4a7f-cc04-73357c49f1d9"
      },
      "execution_count": 25,
      "outputs": [
        {
          "output_type": "stream",
          "name": "stderr",
          "text": [
            "/usr/local/lib/python3.11/dist-packages/keras/src/layers/core/dense.py:87: UserWarning: Do not pass an `input_shape`/`input_dim` argument to a layer. When using Sequential models, prefer using an `Input(shape)` object as the first layer in the model instead.\n",
            "  super().__init__(activity_regularizer=activity_regularizer, **kwargs)\n",
            "/usr/local/lib/python3.11/dist-packages/keras/src/layers/core/dense.py:87: UserWarning: Do not pass an `input_shape`/`input_dim` argument to a layer. When using Sequential models, prefer using an `Input(shape)` object as the first layer in the model instead.\n",
            "  super().__init__(activity_regularizer=activity_regularizer, **kwargs)\n",
            "/usr/local/lib/python3.11/dist-packages/keras/src/layers/core/dense.py:87: UserWarning: Do not pass an `input_shape`/`input_dim` argument to a layer. When using Sequential models, prefer using an `Input(shape)` object as the first layer in the model instead.\n",
            "  super().__init__(activity_regularizer=activity_regularizer, **kwargs)\n",
            "/usr/local/lib/python3.11/dist-packages/keras/src/layers/core/dense.py:87: UserWarning: Do not pass an `input_shape`/`input_dim` argument to a layer. When using Sequential models, prefer using an `Input(shape)` object as the first layer in the model instead.\n",
            "  super().__init__(activity_regularizer=activity_regularizer, **kwargs)\n",
            "/usr/local/lib/python3.11/dist-packages/keras/src/layers/core/dense.py:87: UserWarning: Do not pass an `input_shape`/`input_dim` argument to a layer. When using Sequential models, prefer using an `Input(shape)` object as the first layer in the model instead.\n",
            "  super().__init__(activity_regularizer=activity_regularizer, **kwargs)\n",
            "/usr/local/lib/python3.11/dist-packages/keras/src/layers/core/dense.py:87: UserWarning: Do not pass an `input_shape`/`input_dim` argument to a layer. When using Sequential models, prefer using an `Input(shape)` object as the first layer in the model instead.\n",
            "  super().__init__(activity_regularizer=activity_regularizer, **kwargs)\n"
          ]
        }
      ]
    },
    {
      "cell_type": "code",
      "source": [
        "results_df = pd.DataFrame(results)\n",
        "print(results_df)"
      ],
      "metadata": {
        "colab": {
          "base_uri": "https://localhost:8080/"
        },
        "id": "IVUhR-jrsQg6",
        "outputId": "f6baa8c2-6a29-46a0-c535-0b4c5d353c5f"
      },
      "execution_count": 26,
      "outputs": [
        {
          "output_type": "stream",
          "name": "stdout",
          "text": [
            "  Data Size Layers  Train Error  Validation Error  Execution Time (s)\n",
            "0      1000  1 x 4       0.0512            0.0750               11.73\n",
            "1     10000  1 x 4       0.0015            0.0010               37.96\n",
            "2    100000  1 x 4       0.0008            0.0009              221.84\n",
            "3      1000  2 x 4       0.1187            0.1400               13.80\n",
            "4     10000  2 x 4       0.0016            0.0015               42.68\n",
            "5    100000  2 x 4       0.0008            0.0013              217.98\n"
          ]
        }
      ]
    }
  ]
}