{
  "nbformat": 4,
  "nbformat_minor": 0,
  "metadata": {
    "colab": {
      "provenance": [],
      "authorship_tag": "ABX9TyNQut7ZrtbquEeOrSLL+ZMC"
    },
    "kernelspec": {
      "name": "python3",
      "display_name": "Python 3"
    },
    "language_info": {
      "name": "python"
    }
  },
  "cells": [
    {
      "cell_type": "code",
      "execution_count": 1,
      "metadata": {
        "id": "ysFIM8711HpW"
      },
      "outputs": [],
      "source": [
        "import time\n",
        "import numpy as np\n",
        "import pandas as pd\n",
        "from patsy import dmatrices\n",
        "from xgboost import XGBClassifier\n",
        "from sklearn.metrics import accuracy_score\n",
        "from sklearn.model_selection import train_test_split\n"
      ]
    },
    {
      "cell_type": "code",
      "source": [
        "df_patient = pd.read_csv('dfdata.csv')"
      ],
      "metadata": {
        "id": "QmRQYMwmCpgg"
      },
      "execution_count": 5,
      "outputs": []
    },
    {
      "cell_type": "code",
      "source": [
        "print(df_patient.head())\n",
        "print(df_patient.shape)"
      ],
      "metadata": {
        "colab": {
          "base_uri": "https://localhost:8080/"
        },
        "id": "EecHcla490lb",
        "outputId": "f893d09b-2728-4599-ffa1-1c9c26ceb899"
      },
      "execution_count": 6,
      "outputs": [
        {
          "output_type": "stream",
          "name": "stdout",
          "text": [
            "   pregnant  glucose  pressure  triceps  insulin  mass  pedigree   age  \\\n",
            "0         1    106.0      74.0     14.0    140.0  29.3     0.326  21.0   \n",
            "1         9    126.0      48.0     19.0    145.0  29.0     0.160  35.0   \n",
            "2        15     81.0      50.0     18.0    106.0  37.4     0.361  46.0   \n",
            "3         1    107.0      76.0     34.0    105.0  26.4     0.262  24.0   \n",
            "4         2    118.0      78.0     15.0    255.0  28.4     0.199  21.0   \n",
            "\n",
            "   outcome  \n",
            "0      0.0  \n",
            "1      0.0  \n",
            "2      0.0  \n",
            "3      0.0  \n",
            "4      0.0  \n",
            "(9636650, 9)\n"
          ]
        }
      ]
    },
    {
      "cell_type": "code",
      "source": [
        "# Replace with your actual formula, e.g., 'outcome ~ age + gender + bmi'\n",
        "formula = 'outcome ~ pregnant + glucose + pressure + triceps + insulin + mass + pedigree + age'\n",
        "\n",
        "# Define frac values for different sample sizes, starting large and going down\n",
        "frac_values = [0.00001, 0.0001, 0.001, 0.01, 0.1, 1]\n",
        "\n",
        "# Initialize results table\n",
        "results_table = pd.DataFrame(columns=['Model Description', 'Sample Size', 'Test Accuracy', 'Time Taken (s)'])\n",
        "\n",
        "# Loop through each frac value\n",
        "for frac in frac_values:\n",
        "    # Subsample the dataset\n",
        "    df_patient_sub = df_patient.sample(frac=frac, random_state=32)\n",
        "    sample_size = len(df_patient_sub)\n",
        "\n",
        "\n",
        "    try:\n",
        "        # Patsy dmatrices\n",
        "        Y, X = dmatrices(formula, df_patient_sub)\n",
        "\n",
        "        # Train/test split\n",
        "        X_train, X_test, y_train, y_test = train_test_split(\n",
        "            X,\n",
        "            np.ravel(Y),\n",
        "            test_size=0.25,\n",
        "            random_state=42\n",
        "        )\n",
        "\n",
        "        # Start timing\n",
        "        start_time = time.time()\n",
        "\n",
        "        # Train model\n",
        "        xgb_model = XGBClassifier(use_label_encoder=False, eval_metric='logloss', random_state=42)\n",
        "        xgb_model.fit(X_train, y_train)\n",
        "\n",
        "        # Predict & evaluate\n",
        "        y_pred = xgb_model.predict(X_test)\n",
        "        test_accuracy = accuracy_score(y_test, y_pred)\n",
        "\n",
        "        # Stop timing\n",
        "        end_time = time.time()\n",
        "        time_taken = end_time - start_time\n",
        "\n",
        "        # Append to results table\n",
        "        results_table = pd.concat([\n",
        "            results_table,\n",
        "            pd.DataFrame([{\n",
        "                'Model Description': f'XGBoost (frac={frac})',\n",
        "                'Sample Size': sample_size,\n",
        "                'Test Accuracy': round(test_accuracy, 4),\n",
        "                'Time Taken (s)': round(time_taken, 2)\n",
        "            }])\n",
        "        ], ignore_index=True)\n",
        "\n",
        "        print(f\"Done: frac={frac}, sample_size={sample_size}, test_acc={test_accuracy:.4f}\")\n",
        "\n",
        "    except Exception as e:\n",
        "        print(f\"Error processing frac={frac}: {e}\")\n",
        "\n",
        "# Final Results\n",
        "print(\"\\n=== Results Summary ===\")\n",
        "print(results_table)"
      ],
      "metadata": {
        "colab": {
          "base_uri": "https://localhost:8080/"
        },
        "id": "5uigSv4s9ZSs",
        "outputId": "dfc1b15a-3c55-46b9-d08a-363784390d96"
      },
      "execution_count": 7,
      "outputs": [
        {
          "output_type": "stream",
          "name": "stderr",
          "text": [
            "/usr/local/lib/python3.11/dist-packages/xgboost/core.py:158: UserWarning: [02:34:40] WARNING: /workspace/src/learner.cc:740: \n",
            "Parameters: { \"use_label_encoder\" } are not used.\n",
            "\n",
            "  warnings.warn(smsg, UserWarning)\n",
            "<ipython-input-7-436400654574>:45: FutureWarning: The behavior of DataFrame concatenation with empty or all-NA entries is deprecated. In a future version, this will no longer exclude empty or all-NA columns when determining the result dtypes. To retain the old behavior, exclude the relevant entries before the concat operation.\n",
            "  results_table = pd.concat([\n"
          ]
        },
        {
          "output_type": "stream",
          "name": "stdout",
          "text": [
            "Done: frac=1e-05, sample_size=96, test_acc=0.8750\n"
          ]
        },
        {
          "output_type": "stream",
          "name": "stderr",
          "text": [
            "/usr/local/lib/python3.11/dist-packages/xgboost/core.py:158: UserWarning: [02:34:41] WARNING: /workspace/src/learner.cc:740: \n",
            "Parameters: { \"use_label_encoder\" } are not used.\n",
            "\n",
            "  warnings.warn(smsg, UserWarning)\n"
          ]
        },
        {
          "output_type": "stream",
          "name": "stdout",
          "text": [
            "Done: frac=0.0001, sample_size=964, test_acc=0.9419\n"
          ]
        },
        {
          "output_type": "stream",
          "name": "stderr",
          "text": [
            "/usr/local/lib/python3.11/dist-packages/xgboost/core.py:158: UserWarning: [02:34:41] WARNING: /workspace/src/learner.cc:740: \n",
            "Parameters: { \"use_label_encoder\" } are not used.\n",
            "\n",
            "  warnings.warn(smsg, UserWarning)\n"
          ]
        },
        {
          "output_type": "stream",
          "name": "stdout",
          "text": [
            "Done: frac=0.001, sample_size=9637, test_acc=0.9759\n"
          ]
        },
        {
          "output_type": "stream",
          "name": "stderr",
          "text": [
            "/usr/local/lib/python3.11/dist-packages/xgboost/core.py:158: UserWarning: [02:34:42] WARNING: /workspace/src/learner.cc:740: \n",
            "Parameters: { \"use_label_encoder\" } are not used.\n",
            "\n",
            "  warnings.warn(smsg, UserWarning)\n"
          ]
        },
        {
          "output_type": "stream",
          "name": "stdout",
          "text": [
            "Done: frac=0.01, sample_size=96366, test_acc=0.9873\n"
          ]
        },
        {
          "output_type": "stream",
          "name": "stderr",
          "text": [
            "/usr/local/lib/python3.11/dist-packages/xgboost/core.py:158: UserWarning: [02:34:44] WARNING: /workspace/src/learner.cc:740: \n",
            "Parameters: { \"use_label_encoder\" } are not used.\n",
            "\n",
            "  warnings.warn(smsg, UserWarning)\n"
          ]
        },
        {
          "output_type": "stream",
          "name": "stdout",
          "text": [
            "Done: frac=0.1, sample_size=963665, test_acc=0.9918\n"
          ]
        },
        {
          "output_type": "stream",
          "name": "stderr",
          "text": [
            "/usr/local/lib/python3.11/dist-packages/xgboost/core.py:158: UserWarning: [02:35:07] WARNING: /workspace/src/learner.cc:740: \n",
            "Parameters: { \"use_label_encoder\" } are not used.\n",
            "\n",
            "  warnings.warn(smsg, UserWarning)\n"
          ]
        },
        {
          "output_type": "stream",
          "name": "stdout",
          "text": [
            "Done: frac=1, sample_size=9636650, test_acc=0.9931\n",
            "\n",
            "=== Results Summary ===\n",
            "       Model Description Sample Size  Test Accuracy  Time Taken (s)\n",
            "0   XGBoost (frac=1e-05)          96         0.8750            0.16\n",
            "1  XGBoost (frac=0.0001)         964         0.9419            0.04\n",
            "2   XGBoost (frac=0.001)        9637         0.9759            0.14\n",
            "3    XGBoost (frac=0.01)       96366         0.9873            0.75\n",
            "4     XGBoost (frac=0.1)      963665         0.9918            8.60\n",
            "5       XGBoost (frac=1)     9636650         0.9931           86.38\n"
          ]
        }
      ]
    }
  ]
}