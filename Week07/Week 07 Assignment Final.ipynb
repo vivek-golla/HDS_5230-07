{
 "cells": [
  {
   "cell_type": "code",
   "execution_count": 0,
   "metadata": {
    "application/vnd.databricks.v1+cell": {
     "cellMetadata": {
      "byteLimit": 2048000,
      "rowLimit": 10000
     },
     "inputWidgets": {},
     "nuid": "ea9a941a-998d-459d-9eb5-c4deb5f15edf",
     "showTitle": false,
     "tableResultSettingsMap": {},
     "title": ""
    }
   },
   "outputs": [
    {
     "output_type": "stream",
     "name": "stderr",
     "output_type": "stream",
     "text": [
      "  % Total    % Received % Xferd  Average Speed   Time    Time     Time  Current\n                                 Dload  Upload   Total   Spent    Left  Speed\n\r  0     0    0     0    0     0      0      0 --:--:-- --:--:-- --:--:--     0\r  0     0    0     0    0     0      0      0 --:--:-- --:--:-- --:--:--     0\r  4  752M    4 33.7M    0     0  31.2M      0  0:00:24  0:00:01  0:00:23 31.2M\r 11  752M   11 88.8M    0     0  42.6M      0  0:00:17  0:00:02  0:00:15 42.6M\r 29  752M   29  220M    0     0  71.3M      0  0:00:10  0:00:03  0:00:07 71.3M\r 45  752M   45  339M    0     0  82.9M      0  0:00:09  0:00:04  0:00:05 82.9M\r 66  752M   66  502M    0     0  99.0M      0  0:00:07  0:00:05  0:00:02  100M\r 88  752M   88  666M    0     0   109M      0  0:00:06  0:00:06 --:--:--  126M\r100  752M  100  752M    0     0   114M      0  0:00:06  0:00:06 --:--:--  148M\n"
     ]
    },
    {
     "output_type": "stream",
     "name": "stdout",
     "output_type": "stream",
     "text": [
      "Archive:  /tmp/openpayments_2023.zip\n  inflating: /tmp/openpayments_2023/OP_PGYR2023_README_P01302025.txt  \n  inflating: /tmp/openpayments_2023/OP_DTL_OWNRSHP_PGYR2023_P01302025_01212025.csv  \n  inflating: /tmp/openpayments_2023/OP_DTL_GNRL_PGYR2023_P01302025_01212025.csv  \n  inflating: /tmp/openpayments_2023/OP_DTL_RSRCH_PGYR2023_P01302025_01212025.csv  \n  inflating: /tmp/openpayments_2023/OP_REMOVED_DELETED_PGYR2023_P01302025_01212025.csv  \n"
     ]
    }
   ],
   "source": [
    "%%sh\n",
    "#downloading the CMS Open Payments ZIP file (the extracted file is too large to load directly into databricks)\n",
    "curl -L https://download.cms.gov/openpayments/PGYR2023_P01302025_01212025.zip -o /tmp/openpayments_2023.zip\n",
    "\n",
    "#unzipping the file to a directory\n",
    "unzip /tmp/openpayments_2023.zip -d /tmp/openpayments_2023"
   ]
  },
  {
   "cell_type": "code",
   "execution_count": 0,
   "metadata": {
    "application/vnd.databricks.v1+cell": {
     "cellMetadata": {
      "byteLimit": 2048000,
      "rowLimit": 10000
     },
     "inputWidgets": {},
     "nuid": "4a064d73-73de-4a6d-b96b-1b93f17001ee",
     "showTitle": false,
     "tableResultSettingsMap": {},
     "title": ""
    }
   },
   "outputs": [
    {
     "output_type": "stream",
     "name": "stdout",
     "output_type": "stream",
     "text": [
      "Out[2]: ['OP_PGYR2023_README_P01302025.txt',\n 'OP_DTL_OWNRSHP_PGYR2023_P01302025_01212025.csv',\n 'OP_DTL_GNRL_PGYR2023_P01302025_01212025.csv',\n 'OP_DTL_RSRCH_PGYR2023_P01302025_01212025.csv',\n 'OP_REMOVED_DELETED_PGYR2023_P01302025_01212025.csv']"
     ]
    }
   ],
   "source": [
    "import os\n",
    "\n",
    "# List the extracted files\n",
    "os.listdir(\"/tmp/openpayments_2023\")"
   ]
  },
  {
   "cell_type": "code",
   "execution_count": 0,
   "metadata": {
    "application/vnd.databricks.v1+cell": {
     "cellMetadata": {
      "byteLimit": 2048000,
      "rowLimit": 10000
     },
     "inputWidgets": {},
     "nuid": "45675e08-d43a-4c37-b01e-66485624c0d2",
     "showTitle": false,
     "tableResultSettingsMap": {},
     "title": ""
    }
   },
   "outputs": [
    {
     "output_type": "display_data",
     "data": {
      "text/html": [
       "<style scoped>\n",
       "  .table-result-container {\n",
       "    max-height: 300px;\n",
       "    overflow: auto;\n",
       "  }\n",
       "  table, th, td {\n",
       "    border: 1px solid black;\n",
       "    border-collapse: collapse;\n",
       "  }\n",
       "  th, td {\n",
       "    padding: 5px;\n",
       "  }\n",
       "  th {\n",
       "    text-align: left;\n",
       "  }\n",
       "</style><div class='table-result-container'><table class='table-result'><thead style='background-color: white'><tr><th>Change_Type</th><th>Covered_Recipient_Type</th><th>Teaching_Hospital_CCN</th><th>Teaching_Hospital_ID</th><th>Teaching_Hospital_Name</th><th>Covered_Recipient_Profile_ID</th><th>Covered_Recipient_NPI</th><th>Covered_Recipient_First_Name</th><th>Covered_Recipient_Middle_Name</th><th>Covered_Recipient_Last_Name</th><th>Covered_Recipient_Name_Suffix</th><th>Recipient_Primary_Business_Street_Address_Line1</th><th>Recipient_Primary_Business_Street_Address_Line2</th><th>Recipient_City</th><th>Recipient_State</th><th>Recipient_Zip_Code</th><th>Recipient_Country</th><th>Recipient_Province</th><th>Recipient_Postal_Code</th><th>Covered_Recipient_Primary_Type_1</th><th>Covered_Recipient_Primary_Type_2</th><th>Covered_Recipient_Primary_Type_3</th><th>Covered_Recipient_Primary_Type_4</th><th>Covered_Recipient_Primary_Type_5</th><th>Covered_Recipient_Primary_Type_6</th><th>Covered_Recipient_Specialty_1</th><th>Covered_Recipient_Specialty_2</th><th>Covered_Recipient_Specialty_3</th><th>Covered_Recipient_Specialty_4</th><th>Covered_Recipient_Specialty_5</th><th>Covered_Recipient_Specialty_6</th><th>Covered_Recipient_License_State_code1</th><th>Covered_Recipient_License_State_code2</th><th>Covered_Recipient_License_State_code3</th><th>Covered_Recipient_License_State_code4</th><th>Covered_Recipient_License_State_code5</th><th>Submitting_Applicable_Manufacturer_or_Applicable_GPO_Name</th><th>Applicable_Manufacturer_or_Applicable_GPO_Making_Payment_ID</th><th>Applicable_Manufacturer_or_Applicable_GPO_Making_Payment_Name</th><th>Applicable_Manufacturer_or_Applicable_GPO_Making_Payment_State</th><th>Applicable_Manufacturer_or_Applicable_GPO_Making_Payment_Country</th><th>Total_Amount_of_Payment_USDollars</th><th>Date_of_Payment</th><th>Number_of_Payments_Included_in_Total_Amount</th><th>Form_of_Payment_or_Transfer_of_Value</th><th>Nature_of_Payment_or_Transfer_of_Value</th><th>City_of_Travel</th><th>State_of_Travel</th><th>Country_of_Travel</th><th>Physician_Ownership_Indicator</th><th>Third_Party_Payment_Recipient_Indicator</th><th>Name_of_Third_Party_Entity_Receiving_Payment_or_Transfer_of_Value</th><th>Charity_Indicator</th><th>Third_Party_Equals_Covered_Recipient_Indicator</th><th>Contextual_Information</th><th>Delay_in_Publication_Indicator</th><th>Record_ID</th><th>Dispute_Status_for_Publication</th><th>Related_Product_Indicator</th><th>Covered_or_Noncovered_Indicator_1</th><th>Indicate_Drug_or_Biological_or_Device_or_Medical_Supply_1</th><th>Product_Category_or_Therapeutic_Area_1</th><th>Name_of_Drug_or_Biological_or_Device_or_Medical_Supply_1</th><th>Associated_Drug_or_Biological_NDC_1</th><th>Associated_Device_or_Medical_Supply_PDI_1</th><th>Covered_or_Noncovered_Indicator_2</th><th>Indicate_Drug_or_Biological_or_Device_or_Medical_Supply_2</th><th>Product_Category_or_Therapeutic_Area_2</th><th>Name_of_Drug_or_Biological_or_Device_or_Medical_Supply_2</th><th>Associated_Drug_or_Biological_NDC_2</th><th>Associated_Device_or_Medical_Supply_PDI_2</th><th>Covered_or_Noncovered_Indicator_3</th><th>Indicate_Drug_or_Biological_or_Device_or_Medical_Supply_3</th><th>Product_Category_or_Therapeutic_Area_3</th><th>Name_of_Drug_or_Biological_or_Device_or_Medical_Supply_3</th><th>Associated_Drug_or_Biological_NDC_3</th><th>Associated_Device_or_Medical_Supply_PDI_3</th><th>Covered_or_Noncovered_Indicator_4</th><th>Indicate_Drug_or_Biological_or_Device_or_Medical_Supply_4</th><th>Product_Category_or_Therapeutic_Area_4</th><th>Name_of_Drug_or_Biological_or_Device_or_Medical_Supply_4</th><th>Associated_Drug_or_Biological_NDC_4</th><th>Associated_Device_or_Medical_Supply_PDI_4</th><th>Covered_or_Noncovered_Indicator_5</th><th>Indicate_Drug_or_Biological_or_Device_or_Medical_Supply_5</th><th>Product_Category_or_Therapeutic_Area_5</th><th>Name_of_Drug_or_Biological_or_Device_or_Medical_Supply_5</th><th>Associated_Drug_or_Biological_NDC_5</th><th>Associated_Device_or_Medical_Supply_PDI_5</th><th>Program_Year</th><th>Payment_Publication_Date</th></tr></thead><tbody><tr><td>CHANGED</td><td>Covered Recipient Teaching Hospital</td><td>220162</td><td>9984</td><td>Adventhealth Orlando</td><td>null</td><td>null</td><td>null</td><td>null</td><td>null</td><td>null</td><td>601 E Rollins St</td><td>null</td><td>Orlando</td><td>FL</td><td>32803</td><td>United States</td><td>null</td><td>null</td><td>null</td><td>null</td><td>null</td><td>null</td><td>null</td><td>null</td><td>null</td><td>null</td><td>null</td><td>null</td><td>null</td><td>null</td><td>null</td><td>null</td><td>null</td><td>null</td><td>null</td><td>Integra LifeSciences Corporation</td><td>100000010950</td><td>Integra LifeSciences Corporation</td><td>NJ</td><td>United States</td><td>2000.00</td><td>07/20/2023</td><td>1</td><td>Cash or cash equivalent</td><td>Grant</td><td>null</td><td>null</td><td>null</td><td>No</td><td>No Third Party Payment</td><td>null</td><td>null</td><td>null</td><td>null</td><td>No</td><td>1031636873</td><td>No</td><td>Yes</td><td>Covered</td><td>Device</td><td>Neuro Critical Care</td><td>CODMAN CERTAS</td><td>null</td><td>10381780529033</td><td>null</td><td>null</td><td>null</td><td>null</td><td>null</td><td>null</td><td>null</td><td>null</td><td>null</td><td>null</td><td>null</td><td>null</td><td>null</td><td>null</td><td>null</td><td>null</td><td>null</td><td>null</td><td>null</td><td>null</td><td>null</td><td>null</td><td>null</td><td>null</td><td>2023</td><td>01/30/2025</td></tr><tr><td>CHANGED</td><td>Covered Recipient Teaching Hospital</td><td>220162</td><td>9984</td><td>Carle Foundation Hospital</td><td>null</td><td>null</td><td>null</td><td>null</td><td>null</td><td>null</td><td>2300 N Vermilion St</td><td>null</td><td>Danville</td><td>IL</td><td>61832</td><td>United States</td><td>null</td><td>null</td><td>null</td><td>null</td><td>null</td><td>null</td><td>null</td><td>null</td><td>null</td><td>null</td><td>null</td><td>null</td><td>null</td><td>null</td><td>null</td><td>null</td><td>null</td><td>null</td><td>null</td><td>Integra LifeSciences Corporation</td><td>100000010950</td><td>Integra LifeSciences Corporation</td><td>NJ</td><td>United States</td><td>1500.00</td><td>11/03/2023</td><td>1</td><td>Cash or cash equivalent</td><td>Grant</td><td>null</td><td>null</td><td>null</td><td>No</td><td>No Third Party Payment</td><td>null</td><td>null</td><td>null</td><td>null</td><td>No</td><td>1031636879</td><td>No</td><td>Yes</td><td>Covered</td><td>Device</td><td>Neuro Critical Care</td><td>CODMAN CERTAS</td><td>null</td><td>10381780529033</td><td>null</td><td>null</td><td>null</td><td>null</td><td>null</td><td>null</td><td>null</td><td>null</td><td>null</td><td>null</td><td>null</td><td>null</td><td>null</td><td>null</td><td>null</td><td>null</td><td>null</td><td>null</td><td>null</td><td>null</td><td>null</td><td>null</td><td>null</td><td>null</td><td>2023</td><td>01/30/2025</td></tr><tr><td>CHANGED</td><td>Covered Recipient Teaching Hospital</td><td>220162</td><td>9984</td><td>St. Josephs Hospital & Medical Ctr</td><td>null</td><td>null</td><td>null</td><td>null</td><td>null</td><td>null</td><td>4975 N Dysart Rd Ste 100</td><td>null</td><td>Litchfield Park</td><td>AZ</td><td>85340</td><td>United States</td><td>null</td><td>null</td><td>null</td><td>null</td><td>null</td><td>null</td><td>null</td><td>null</td><td>null</td><td>null</td><td>null</td><td>null</td><td>null</td><td>null</td><td>null</td><td>null</td><td>null</td><td>null</td><td>null</td><td>Integra LifeSciences Corporation</td><td>100000010950</td><td>Integra LifeSciences Corporation</td><td>NJ</td><td>United States</td><td>2500.00</td><td>03/21/2023</td><td>1</td><td>Cash or cash equivalent</td><td>Grant</td><td>null</td><td>null</td><td>null</td><td>No</td><td>No Third Party Payment</td><td>null</td><td>null</td><td>null</td><td>null</td><td>No</td><td>1031636885</td><td>No</td><td>Yes</td><td>Covered</td><td>Device</td><td>Neuro Critical Care</td><td>CODMAN CERTAS</td><td>null</td><td>10381780529033</td><td>null</td><td>null</td><td>null</td><td>null</td><td>null</td><td>null</td><td>null</td><td>null</td><td>null</td><td>null</td><td>null</td><td>null</td><td>null</td><td>null</td><td>null</td><td>null</td><td>null</td><td>null</td><td>null</td><td>null</td><td>null</td><td>null</td><td>null</td><td>null</td><td>2023</td><td>01/30/2025</td></tr><tr><td>CHANGED</td><td>Covered Recipient Teaching Hospital</td><td>220162</td><td>9984</td><td>St. Josephs Hospital & Medical Ctr</td><td>null</td><td>null</td><td>null</td><td>null</td><td>null</td><td>null</td><td>4975 N Dysart Rd Ste 100</td><td>null</td><td>Litchfield Park</td><td>AZ</td><td>85340</td><td>United States</td><td>null</td><td>null</td><td>null</td><td>null</td><td>null</td><td>null</td><td>null</td><td>null</td><td>null</td><td>null</td><td>null</td><td>null</td><td>null</td><td>null</td><td>null</td><td>null</td><td>null</td><td>null</td><td>null</td><td>Integra LifeSciences Corporation</td><td>100000010950</td><td>Integra LifeSciences Corporation</td><td>NJ</td><td>United States</td><td>3000.00</td><td>04/14/2023</td><td>1</td><td>Cash or cash equivalent</td><td>Grant</td><td>null</td><td>null</td><td>null</td><td>No</td><td>No Third Party Payment</td><td>null</td><td>null</td><td>null</td><td>null</td><td>No</td><td>1031636889</td><td>No</td><td>Yes</td><td>Covered</td><td>Device</td><td>Neuro Critical Care</td><td>CODMAN CERTAS</td><td>null</td><td>10381780529033</td><td>null</td><td>null</td><td>null</td><td>null</td><td>null</td><td>null</td><td>null</td><td>null</td><td>null</td><td>null</td><td>null</td><td>null</td><td>null</td><td>null</td><td>null</td><td>null</td><td>null</td><td>null</td><td>null</td><td>null</td><td>null</td><td>null</td><td>null</td><td>null</td><td>2023</td><td>01/30/2025</td></tr><tr><td>CHANGED</td><td>Covered Recipient Teaching Hospital</td><td>220162</td><td>9984</td><td>Uc Davis Medical Center</td><td>null</td><td>null</td><td>null</td><td>null</td><td>null</td><td>null</td><td>2315 Stockton Blvd</td><td>null</td><td>Sacramento</td><td>CA</td><td>95817</td><td>United States</td><td>null</td><td>null</td><td>null</td><td>null</td><td>null</td><td>null</td><td>null</td><td>null</td><td>null</td><td>null</td><td>null</td><td>null</td><td>null</td><td>null</td><td>null</td><td>null</td><td>null</td><td>null</td><td>null</td><td>Integra LifeSciences Corporation</td><td>100000010950</td><td>Integra LifeSciences Corporation</td><td>NJ</td><td>United States</td><td>3921.61</td><td>04/30/2023</td><td>1</td><td>Cash or cash equivalent</td><td>Honoraria</td><td>null</td><td>null</td><td>null</td><td>No</td><td>No Third Party Payment</td><td>null</td><td>null</td><td>null</td><td>null</td><td>No</td><td>1031636896</td><td>No</td><td>Yes</td><td>Covered</td><td>Device</td><td>Neuro Critical Care</td><td>CODMAN CERTAS</td><td>null</td><td>10381780529033</td><td>Covered</td><td>Device</td><td>Neuro Critical Care</td><td>CUSA CLARITY</td><td>null</td><td>10381780126232</td><td>null</td><td>null</td><td>null</td><td>null</td><td>null</td><td>null</td><td>null</td><td>null</td><td>null</td><td>null</td><td>null</td><td>null</td><td>null</td><td>null</td><td>null</td><td>null</td><td>null</td><td>null</td><td>2023</td><td>01/30/2025</td></tr><tr><td>CHANGED</td><td>Covered Recipient Teaching Hospital</td><td>220162</td><td>9984</td><td>Uc Davis Medical Center</td><td>null</td><td>null</td><td>null</td><td>null</td><td>null</td><td>null</td><td>2315 Stockton Blvd</td><td>null</td><td>Sacramento</td><td>CA</td><td>95817</td><td>United States</td><td>null</td><td>null</td><td>null</td><td>null</td><td>null</td><td>null</td><td>null</td><td>null</td><td>null</td><td>null</td><td>null</td><td>null</td><td>null</td><td>null</td><td>null</td><td>null</td><td>null</td><td>null</td><td>null</td><td>Integra LifeSciences Corporation</td><td>100000010950</td><td>Integra LifeSciences Corporation</td><td>NJ</td><td>United States</td><td>5831.45</td><td>10/30/2023</td><td>1</td><td>Cash or cash equivalent</td><td>Royalty or License</td><td>null</td><td>null</td><td>null</td><td>No</td><td>No Third Party Payment</td><td>null</td><td>null</td><td>null</td><td>null</td><td>No</td><td>1031636903</td><td>No</td><td>Yes</td><td>Covered</td><td>Device</td><td>Neuro Critical Care</td><td>LimiTorr</td><td>null</td><td>10381780071136</td><td>null</td><td>null</td><td>null</td><td>null</td><td>null</td><td>null</td><td>null</td><td>null</td><td>null</td><td>null</td><td>null</td><td>null</td><td>null</td><td>null</td><td>null</td><td>null</td><td>null</td><td>null</td><td>null</td><td>null</td><td>null</td><td>null</td><td>null</td><td>null</td><td>2023</td><td>01/30/2025</td></tr><tr><td>CHANGED</td><td>Covered Recipient Teaching Hospital</td><td>220162</td><td>9984</td><td>Uc Davis Medical Center</td><td>null</td><td>null</td><td>null</td><td>null</td><td>null</td><td>null</td><td>2315 Stockton Blvd</td><td>null</td><td>Sacramento</td><td>CA</td><td>95817</td><td>United States</td><td>null</td><td>null</td><td>null</td><td>null</td><td>null</td><td>null</td><td>null</td><td>null</td><td>null</td><td>null</td><td>null</td><td>null</td><td>null</td><td>null</td><td>null</td><td>null</td><td>null</td><td>null</td><td>null</td><td>Integra LifeSciences Corporation</td><td>100000010950</td><td>Integra LifeSciences Corporation</td><td>NJ</td><td>United States</td><td>2567.53</td><td>07/30/2023</td><td>1</td><td>Cash or cash equivalent</td><td>Royalty or License</td><td>null</td><td>null</td><td>null</td><td>No</td><td>No Third Party Payment</td><td>null</td><td>null</td><td>null</td><td>null</td><td>No</td><td>1031636909</td><td>No</td><td>Yes</td><td>Covered</td><td>Device</td><td>Neuro Critical Care</td><td>LimiTorr</td><td>null</td><td>10381780071136</td><td>null</td><td>null</td><td>null</td><td>null</td><td>null</td><td>null</td><td>null</td><td>null</td><td>null</td><td>null</td><td>null</td><td>null</td><td>null</td><td>null</td><td>null</td><td>null</td><td>null</td><td>null</td><td>null</td><td>null</td><td>null</td><td>null</td><td>null</td><td>null</td><td>2023</td><td>01/30/2025</td></tr><tr><td>CHANGED</td><td>Covered Recipient Teaching Hospital</td><td>220162</td><td>9984</td><td>Uc Davis Medical Center</td><td>null</td><td>null</td><td>null</td><td>null</td><td>null</td><td>null</td><td>2315 Stockton Blvd</td><td>null</td><td>Sacramento</td><td>CA</td><td>95817</td><td>United States</td><td>null</td><td>null</td><td>null</td><td>null</td><td>null</td><td>null</td><td>null</td><td>null</td><td>null</td><td>null</td><td>null</td><td>null</td><td>null</td><td>null</td><td>null</td><td>null</td><td>null</td><td>null</td><td>null</td><td>Integra LifeSciences Corporation</td><td>100000010950</td><td>Integra LifeSciences Corporation</td><td>NJ</td><td>United States</td><td>1000.00</td><td>05/18/2023</td><td>1</td><td>Cash or cash equivalent</td><td>Grant</td><td>null</td><td>null</td><td>null</td><td>No</td><td>No Third Party Payment</td><td>null</td><td>null</td><td>null</td><td>null</td><td>No</td><td>1031636915</td><td>No</td><td>Yes</td><td>Covered</td><td>Device</td><td>Neuro Critical Care</td><td>CODMAN CERTAS</td><td>null</td><td>10381780529033</td><td>null</td><td>null</td><td>null</td><td>null</td><td>null</td><td>null</td><td>null</td><td>null</td><td>null</td><td>null</td><td>null</td><td>null</td><td>null</td><td>null</td><td>null</td><td>null</td><td>null</td><td>null</td><td>null</td><td>null</td><td>null</td><td>null</td><td>null</td><td>null</td><td>2023</td><td>01/30/2025</td></tr><tr><td>CHANGED</td><td>Covered Recipient Teaching Hospital</td><td>220162</td><td>9984</td><td>University Of Virginia Medical Cente</td><td>null</td><td>null</td><td>null</td><td>null</td><td>null</td><td>null</td><td>1215 Lee St Pfs</td><td>null</td><td>Charlottesville</td><td>VA</td><td>22908</td><td>United States</td><td>null</td><td>null</td><td>null</td><td>null</td><td>null</td><td>null</td><td>null</td><td>null</td><td>null</td><td>null</td><td>null</td><td>null</td><td>null</td><td>null</td><td>null</td><td>null</td><td>null</td><td>null</td><td>null</td><td>Integra LifeSciences Corporation</td><td>100000010950</td><td>Integra LifeSciences Corporation</td><td>NJ</td><td>United States</td><td>1000.00</td><td>05/12/2023</td><td>1</td><td>Cash or cash equivalent</td><td>Grant</td><td>null</td><td>null</td><td>null</td><td>No</td><td>No Third Party Payment</td><td>null</td><td>null</td><td>null</td><td>null</td><td>No</td><td>1031636921</td><td>No</td><td>Yes</td><td>Covered</td><td>Device</td><td>Neuro Critical Care</td><td>CODMAN CERTAS</td><td>null</td><td>10381780529033</td><td>null</td><td>null</td><td>null</td><td>null</td><td>null</td><td>null</td><td>null</td><td>null</td><td>null</td><td>null</td><td>null</td><td>null</td><td>null</td><td>null</td><td>null</td><td>null</td><td>null</td><td>null</td><td>null</td><td>null</td><td>null</td><td>null</td><td>null</td><td>null</td><td>2023</td><td>01/30/2025</td></tr><tr><td>CHANGED</td><td>Covered Recipient Teaching Hospital</td><td>220162</td><td>9984</td><td>CARLE FOUNDATION HOSPITAL</td><td>null</td><td>null</td><td>null</td><td>null</td><td>null</td><td>null</td><td>2300 N VERMILION ST</td><td>null</td><td>DANVILLE</td><td>IL</td><td>61832</td><td>United States</td><td>null</td><td>null</td><td>null</td><td>null</td><td>null</td><td>null</td><td>null</td><td>null</td><td>null</td><td>null</td><td>null</td><td>null</td><td>null</td><td>null</td><td>null</td><td>null</td><td>null</td><td>null</td><td>null</td><td>Ironshore Pharmaceuticals Inc.</td><td>100000601811</td><td>IRONSHORE PHARMACEUTICALS INC.</td><td>NC</td><td>United States</td><td>1000.00</td><td>08/18/2023</td><td>1</td><td>Cash or cash equivalent</td><td>Education</td><td>null</td><td>null</td><td>null</td><td>null</td><td>No Third Party Payment</td><td>null</td><td>null</td><td>null</td><td>null</td><td>No</td><td>1060452359</td><td>No</td><td>Yes</td><td>Covered</td><td>Drug</td><td>CENTRAL NERVOUS SYSTEM STIMULANT</td><td>JORNAY PM</td><td>71376-201-03</td><td>null</td><td>null</td><td>null</td><td>null</td><td>null</td><td>null</td><td>null</td><td>null</td><td>null</td><td>null</td><td>null</td><td>null</td><td>null</td><td>null</td><td>null</td><td>null</td><td>null</td><td>null</td><td>null</td><td>null</td><td>null</td><td>null</td><td>null</td><td>null</td><td>null</td><td>2023</td><td>01/30/2025</td></tr></tbody></table></div>"
      ]
     },
     "metadata": {
      "application/vnd.databricks.v1+output": {
       "addedWidgets": {},
       "aggData": [],
       "aggError": "",
       "aggOverflow": false,
       "aggSchema": [],
       "aggSeriesLimitReached": false,
       "aggType": "",
       "arguments": {},
       "columnCustomDisplayInfos": {},
       "data": [
        [
         "CHANGED",
         "Covered Recipient Teaching Hospital",
         "220162",
         "9984",
         "Adventhealth Orlando",
         null,
         null,
         null,
         null,
         null,
         null,
         "601 E Rollins St",
         null,
         "Orlando",
         "FL",
         "32803",
         "United States",
         null,
         null,
         null,
         null,
         null,
         null,
         null,
         null,
         null,
         null,
         null,
         null,
         null,
         null,
         null,
         null,
         null,
         null,
         null,
         "Integra LifeSciences Corporation",
         "100000010950",
         "Integra LifeSciences Corporation",
         "NJ",
         "United States",
         "2000.00",
         "07/20/2023",
         "1",
         "Cash or cash equivalent",
         "Grant",
         null,
         null,
         null,
         "No",
         "No Third Party Payment",
         null,
         null,
         null,
         null,
         "No",
         "1031636873",
         "No",
         "Yes",
         "Covered",
         "Device",
         "Neuro Critical Care",
         "CODMAN CERTAS",
         null,
         "10381780529033",
         null,
         null,
         null,
         null,
         null,
         null,
         null,
         null,
         null,
         null,
         null,
         null,
         null,
         null,
         null,
         null,
         null,
         null,
         null,
         null,
         null,
         null,
         null,
         null,
         2023,
         "01/30/2025"
        ],
        [
         "CHANGED",
         "Covered Recipient Teaching Hospital",
         "220162",
         "9984",
         "Carle Foundation Hospital",
         null,
         null,
         null,
         null,
         null,
         null,
         "2300 N Vermilion St",
         null,
         "Danville",
         "IL",
         "61832",
         "United States",
         null,
         null,
         null,
         null,
         null,
         null,
         null,
         null,
         null,
         null,
         null,
         null,
         null,
         null,
         null,
         null,
         null,
         null,
         null,
         "Integra LifeSciences Corporation",
         "100000010950",
         "Integra LifeSciences Corporation",
         "NJ",
         "United States",
         "1500.00",
         "11/03/2023",
         "1",
         "Cash or cash equivalent",
         "Grant",
         null,
         null,
         null,
         "No",
         "No Third Party Payment",
         null,
         null,
         null,
         null,
         "No",
         "1031636879",
         "No",
         "Yes",
         "Covered",
         "Device",
         "Neuro Critical Care",
         "CODMAN CERTAS",
         null,
         "10381780529033",
         null,
         null,
         null,
         null,
         null,
         null,
         null,
         null,
         null,
         null,
         null,
         null,
         null,
         null,
         null,
         null,
         null,
         null,
         null,
         null,
         null,
         null,
         null,
         null,
         2023,
         "01/30/2025"
        ],
        [
         "CHANGED",
         "Covered Recipient Teaching Hospital",
         "220162",
         "9984",
         "St. Josephs Hospital & Medical Ctr",
         null,
         null,
         null,
         null,
         null,
         null,
         "4975 N Dysart Rd Ste 100",
         null,
         "Litchfield Park",
         "AZ",
         "85340",
         "United States",
         null,
         null,
         null,
         null,
         null,
         null,
         null,
         null,
         null,
         null,
         null,
         null,
         null,
         null,
         null,
         null,
         null,
         null,
         null,
         "Integra LifeSciences Corporation",
         "100000010950",
         "Integra LifeSciences Corporation",
         "NJ",
         "United States",
         "2500.00",
         "03/21/2023",
         "1",
         "Cash or cash equivalent",
         "Grant",
         null,
         null,
         null,
         "No",
         "No Third Party Payment",
         null,
         null,
         null,
         null,
         "No",
         "1031636885",
         "No",
         "Yes",
         "Covered",
         "Device",
         "Neuro Critical Care",
         "CODMAN CERTAS",
         null,
         "10381780529033",
         null,
         null,
         null,
         null,
         null,
         null,
         null,
         null,
         null,
         null,
         null,
         null,
         null,
         null,
         null,
         null,
         null,
         null,
         null,
         null,
         null,
         null,
         null,
         null,
         2023,
         "01/30/2025"
        ],
        [
         "CHANGED",
         "Covered Recipient Teaching Hospital",
         "220162",
         "9984",
         "St. Josephs Hospital & Medical Ctr",
         null,
         null,
         null,
         null,
         null,
         null,
         "4975 N Dysart Rd Ste 100",
         null,
         "Litchfield Park",
         "AZ",
         "85340",
         "United States",
         null,
         null,
         null,
         null,
         null,
         null,
         null,
         null,
         null,
         null,
         null,
         null,
         null,
         null,
         null,
         null,
         null,
         null,
         null,
         "Integra LifeSciences Corporation",
         "100000010950",
         "Integra LifeSciences Corporation",
         "NJ",
         "United States",
         "3000.00",
         "04/14/2023",
         "1",
         "Cash or cash equivalent",
         "Grant",
         null,
         null,
         null,
         "No",
         "No Third Party Payment",
         null,
         null,
         null,
         null,
         "No",
         "1031636889",
         "No",
         "Yes",
         "Covered",
         "Device",
         "Neuro Critical Care",
         "CODMAN CERTAS",
         null,
         "10381780529033",
         null,
         null,
         null,
         null,
         null,
         null,
         null,
         null,
         null,
         null,
         null,
         null,
         null,
         null,
         null,
         null,
         null,
         null,
         null,
         null,
         null,
         null,
         null,
         null,
         2023,
         "01/30/2025"
        ],
        [
         "CHANGED",
         "Covered Recipient Teaching Hospital",
         "220162",
         "9984",
         "Uc Davis Medical Center",
         null,
         null,
         null,
         null,
         null,
         null,
         "2315 Stockton Blvd",
         null,
         "Sacramento",
         "CA",
         "95817",
         "United States",
         null,
         null,
         null,
         null,
         null,
         null,
         null,
         null,
         null,
         null,
         null,
         null,
         null,
         null,
         null,
         null,
         null,
         null,
         null,
         "Integra LifeSciences Corporation",
         "100000010950",
         "Integra LifeSciences Corporation",
         "NJ",
         "United States",
         "3921.61",
         "04/30/2023",
         "1",
         "Cash or cash equivalent",
         "Honoraria",
         null,
         null,
         null,
         "No",
         "No Third Party Payment",
         null,
         null,
         null,
         null,
         "No",
         "1031636896",
         "No",
         "Yes",
         "Covered",
         "Device",
         "Neuro Critical Care",
         "CODMAN CERTAS",
         null,
         "10381780529033",
         "Covered",
         "Device",
         "Neuro Critical Care",
         "CUSA CLARITY",
         null,
         "10381780126232",
         null,
         null,
         null,
         null,
         null,
         null,
         null,
         null,
         null,
         null,
         null,
         null,
         null,
         null,
         null,
         null,
         null,
         null,
         2023,
         "01/30/2025"
        ],
        [
         "CHANGED",
         "Covered Recipient Teaching Hospital",
         "220162",
         "9984",
         "Uc Davis Medical Center",
         null,
         null,
         null,
         null,
         null,
         null,
         "2315 Stockton Blvd",
         null,
         "Sacramento",
         "CA",
         "95817",
         "United States",
         null,
         null,
         null,
         null,
         null,
         null,
         null,
         null,
         null,
         null,
         null,
         null,
         null,
         null,
         null,
         null,
         null,
         null,
         null,
         "Integra LifeSciences Corporation",
         "100000010950",
         "Integra LifeSciences Corporation",
         "NJ",
         "United States",
         "5831.45",
         "10/30/2023",
         "1",
         "Cash or cash equivalent",
         "Royalty or License",
         null,
         null,
         null,
         "No",
         "No Third Party Payment",
         null,
         null,
         null,
         null,
         "No",
         "1031636903",
         "No",
         "Yes",
         "Covered",
         "Device",
         "Neuro Critical Care",
         "LimiTorr",
         null,
         "10381780071136",
         null,
         null,
         null,
         null,
         null,
         null,
         null,
         null,
         null,
         null,
         null,
         null,
         null,
         null,
         null,
         null,
         null,
         null,
         null,
         null,
         null,
         null,
         null,
         null,
         2023,
         "01/30/2025"
        ],
        [
         "CHANGED",
         "Covered Recipient Teaching Hospital",
         "220162",
         "9984",
         "Uc Davis Medical Center",
         null,
         null,
         null,
         null,
         null,
         null,
         "2315 Stockton Blvd",
         null,
         "Sacramento",
         "CA",
         "95817",
         "United States",
         null,
         null,
         null,
         null,
         null,
         null,
         null,
         null,
         null,
         null,
         null,
         null,
         null,
         null,
         null,
         null,
         null,
         null,
         null,
         "Integra LifeSciences Corporation",
         "100000010950",
         "Integra LifeSciences Corporation",
         "NJ",
         "United States",
         "2567.53",
         "07/30/2023",
         "1",
         "Cash or cash equivalent",
         "Royalty or License",
         null,
         null,
         null,
         "No",
         "No Third Party Payment",
         null,
         null,
         null,
         null,
         "No",
         "1031636909",
         "No",
         "Yes",
         "Covered",
         "Device",
         "Neuro Critical Care",
         "LimiTorr",
         null,
         "10381780071136",
         null,
         null,
         null,
         null,
         null,
         null,
         null,
         null,
         null,
         null,
         null,
         null,
         null,
         null,
         null,
         null,
         null,
         null,
         null,
         null,
         null,
         null,
         null,
         null,
         2023,
         "01/30/2025"
        ],
        [
         "CHANGED",
         "Covered Recipient Teaching Hospital",
         "220162",
         "9984",
         "Uc Davis Medical Center",
         null,
         null,
         null,
         null,
         null,
         null,
         "2315 Stockton Blvd",
         null,
         "Sacramento",
         "CA",
         "95817",
         "United States",
         null,
         null,
         null,
         null,
         null,
         null,
         null,
         null,
         null,
         null,
         null,
         null,
         null,
         null,
         null,
         null,
         null,
         null,
         null,
         "Integra LifeSciences Corporation",
         "100000010950",
         "Integra LifeSciences Corporation",
         "NJ",
         "United States",
         "1000.00",
         "05/18/2023",
         "1",
         "Cash or cash equivalent",
         "Grant",
         null,
         null,
         null,
         "No",
         "No Third Party Payment",
         null,
         null,
         null,
         null,
         "No",
         "1031636915",
         "No",
         "Yes",
         "Covered",
         "Device",
         "Neuro Critical Care",
         "CODMAN CERTAS",
         null,
         "10381780529033",
         null,
         null,
         null,
         null,
         null,
         null,
         null,
         null,
         null,
         null,
         null,
         null,
         null,
         null,
         null,
         null,
         null,
         null,
         null,
         null,
         null,
         null,
         null,
         null,
         2023,
         "01/30/2025"
        ],
        [
         "CHANGED",
         "Covered Recipient Teaching Hospital",
         "220162",
         "9984",
         "University Of Virginia Medical Cente",
         null,
         null,
         null,
         null,
         null,
         null,
         "1215 Lee St Pfs",
         null,
         "Charlottesville",
         "VA",
         "22908",
         "United States",
         null,
         null,
         null,
         null,
         null,
         null,
         null,
         null,
         null,
         null,
         null,
         null,
         null,
         null,
         null,
         null,
         null,
         null,
         null,
         "Integra LifeSciences Corporation",
         "100000010950",
         "Integra LifeSciences Corporation",
         "NJ",
         "United States",
         "1000.00",
         "05/12/2023",
         "1",
         "Cash or cash equivalent",
         "Grant",
         null,
         null,
         null,
         "No",
         "No Third Party Payment",
         null,
         null,
         null,
         null,
         "No",
         "1031636921",
         "No",
         "Yes",
         "Covered",
         "Device",
         "Neuro Critical Care",
         "CODMAN CERTAS",
         null,
         "10381780529033",
         null,
         null,
         null,
         null,
         null,
         null,
         null,
         null,
         null,
         null,
         null,
         null,
         null,
         null,
         null,
         null,
         null,
         null,
         null,
         null,
         null,
         null,
         null,
         null,
         2023,
         "01/30/2025"
        ],
        [
         "CHANGED",
         "Covered Recipient Teaching Hospital",
         "220162",
         "9984",
         "CARLE FOUNDATION HOSPITAL",
         null,
         null,
         null,
         null,
         null,
         null,
         "2300 N VERMILION ST",
         null,
         "DANVILLE",
         "IL",
         "61832",
         "United States",
         null,
         null,
         null,
         null,
         null,
         null,
         null,
         null,
         null,
         null,
         null,
         null,
         null,
         null,
         null,
         null,
         null,
         null,
         null,
         "Ironshore Pharmaceuticals Inc.",
         "100000601811",
         "IRONSHORE PHARMACEUTICALS INC.",
         "NC",
         "United States",
         "1000.00",
         "08/18/2023",
         "1",
         "Cash or cash equivalent",
         "Education",
         null,
         null,
         null,
         null,
         "No Third Party Payment",
         null,
         null,
         null,
         null,
         "No",
         "1060452359",
         "No",
         "Yes",
         "Covered",
         "Drug",
         "CENTRAL NERVOUS SYSTEM STIMULANT",
         "JORNAY PM",
         "71376-201-03",
         null,
         null,
         null,
         null,
         null,
         null,
         null,
         null,
         null,
         null,
         null,
         null,
         null,
         null,
         null,
         null,
         null,
         null,
         null,
         null,
         null,
         null,
         null,
         null,
         null,
         2023,
         "01/30/2025"
        ]
       ],
       "datasetInfos": [],
       "dbfsResultPath": null,
       "isJsonSchema": true,
       "metadata": {},
       "overflow": false,
       "plotOptions": {
        "customPlotOptions": {},
        "displayType": "table",
        "pivotAggregation": null,
        "pivotColumns": null,
        "xColumns": null,
        "yColumns": null
       },
       "removedWidgets": [],
       "schema": [
        {
         "metadata": "{}",
         "name": "Change_Type",
         "type": "\"string\""
        },
        {
         "metadata": "{}",
         "name": "Covered_Recipient_Type",
         "type": "\"string\""
        },
        {
         "metadata": "{}",
         "name": "Teaching_Hospital_CCN",
         "type": "\"string\""
        },
        {
         "metadata": "{}",
         "name": "Teaching_Hospital_ID",
         "type": "\"string\""
        },
        {
         "metadata": "{}",
         "name": "Teaching_Hospital_Name",
         "type": "\"string\""
        },
        {
         "metadata": "{}",
         "name": "Covered_Recipient_Profile_ID",
         "type": "\"string\""
        },
        {
         "metadata": "{}",
         "name": "Covered_Recipient_NPI",
         "type": "\"string\""
        },
        {
         "metadata": "{}",
         "name": "Covered_Recipient_First_Name",
         "type": "\"string\""
        },
        {
         "metadata": "{}",
         "name": "Covered_Recipient_Middle_Name",
         "type": "\"string\""
        },
        {
         "metadata": "{}",
         "name": "Covered_Recipient_Last_Name",
         "type": "\"string\""
        },
        {
         "metadata": "{}",
         "name": "Covered_Recipient_Name_Suffix",
         "type": "\"string\""
        },
        {
         "metadata": "{}",
         "name": "Recipient_Primary_Business_Street_Address_Line1",
         "type": "\"string\""
        },
        {
         "metadata": "{}",
         "name": "Recipient_Primary_Business_Street_Address_Line2",
         "type": "\"string\""
        },
        {
         "metadata": "{}",
         "name": "Recipient_City",
         "type": "\"string\""
        },
        {
         "metadata": "{}",
         "name": "Recipient_State",
         "type": "\"string\""
        },
        {
         "metadata": "{}",
         "name": "Recipient_Zip_Code",
         "type": "\"string\""
        },
        {
         "metadata": "{}",
         "name": "Recipient_Country",
         "type": "\"string\""
        },
        {
         "metadata": "{}",
         "name": "Recipient_Province",
         "type": "\"string\""
        },
        {
         "metadata": "{}",
         "name": "Recipient_Postal_Code",
         "type": "\"string\""
        },
        {
         "metadata": "{}",
         "name": "Covered_Recipient_Primary_Type_1",
         "type": "\"string\""
        },
        {
         "metadata": "{}",
         "name": "Covered_Recipient_Primary_Type_2",
         "type": "\"string\""
        },
        {
         "metadata": "{}",
         "name": "Covered_Recipient_Primary_Type_3",
         "type": "\"string\""
        },
        {
         "metadata": "{}",
         "name": "Covered_Recipient_Primary_Type_4",
         "type": "\"string\""
        },
        {
         "metadata": "{}",
         "name": "Covered_Recipient_Primary_Type_5",
         "type": "\"string\""
        },
        {
         "metadata": "{}",
         "name": "Covered_Recipient_Primary_Type_6",
         "type": "\"string\""
        },
        {
         "metadata": "{}",
         "name": "Covered_Recipient_Specialty_1",
         "type": "\"string\""
        },
        {
         "metadata": "{}",
         "name": "Covered_Recipient_Specialty_2",
         "type": "\"string\""
        },
        {
         "metadata": "{}",
         "name": "Covered_Recipient_Specialty_3",
         "type": "\"string\""
        },
        {
         "metadata": "{}",
         "name": "Covered_Recipient_Specialty_4",
         "type": "\"string\""
        },
        {
         "metadata": "{}",
         "name": "Covered_Recipient_Specialty_5",
         "type": "\"string\""
        },
        {
         "metadata": "{}",
         "name": "Covered_Recipient_Specialty_6",
         "type": "\"string\""
        },
        {
         "metadata": "{}",
         "name": "Covered_Recipient_License_State_code1",
         "type": "\"string\""
        },
        {
         "metadata": "{}",
         "name": "Covered_Recipient_License_State_code2",
         "type": "\"string\""
        },
        {
         "metadata": "{}",
         "name": "Covered_Recipient_License_State_code3",
         "type": "\"string\""
        },
        {
         "metadata": "{}",
         "name": "Covered_Recipient_License_State_code4",
         "type": "\"string\""
        },
        {
         "metadata": "{}",
         "name": "Covered_Recipient_License_State_code5",
         "type": "\"string\""
        },
        {
         "metadata": "{}",
         "name": "Submitting_Applicable_Manufacturer_or_Applicable_GPO_Name",
         "type": "\"string\""
        },
        {
         "metadata": "{}",
         "name": "Applicable_Manufacturer_or_Applicable_GPO_Making_Payment_ID",
         "type": "\"string\""
        },
        {
         "metadata": "{}",
         "name": "Applicable_Manufacturer_or_Applicable_GPO_Making_Payment_Name",
         "type": "\"string\""
        },
        {
         "metadata": "{}",
         "name": "Applicable_Manufacturer_or_Applicable_GPO_Making_Payment_State",
         "type": "\"string\""
        },
        {
         "metadata": "{}",
         "name": "Applicable_Manufacturer_or_Applicable_GPO_Making_Payment_Country",
         "type": "\"string\""
        },
        {
         "metadata": "{}",
         "name": "Total_Amount_of_Payment_USDollars",
         "type": "\"string\""
        },
        {
         "metadata": "{}",
         "name": "Date_of_Payment",
         "type": "\"string\""
        },
        {
         "metadata": "{}",
         "name": "Number_of_Payments_Included_in_Total_Amount",
         "type": "\"string\""
        },
        {
         "metadata": "{}",
         "name": "Form_of_Payment_or_Transfer_of_Value",
         "type": "\"string\""
        },
        {
         "metadata": "{}",
         "name": "Nature_of_Payment_or_Transfer_of_Value",
         "type": "\"string\""
        },
        {
         "metadata": "{}",
         "name": "City_of_Travel",
         "type": "\"string\""
        },
        {
         "metadata": "{}",
         "name": "State_of_Travel",
         "type": "\"string\""
        },
        {
         "metadata": "{}",
         "name": "Country_of_Travel",
         "type": "\"string\""
        },
        {
         "metadata": "{}",
         "name": "Physician_Ownership_Indicator",
         "type": "\"string\""
        },
        {
         "metadata": "{}",
         "name": "Third_Party_Payment_Recipient_Indicator",
         "type": "\"string\""
        },
        {
         "metadata": "{}",
         "name": "Name_of_Third_Party_Entity_Receiving_Payment_or_Transfer_of_Value",
         "type": "\"string\""
        },
        {
         "metadata": "{}",
         "name": "Charity_Indicator",
         "type": "\"string\""
        },
        {
         "metadata": "{}",
         "name": "Third_Party_Equals_Covered_Recipient_Indicator",
         "type": "\"string\""
        },
        {
         "metadata": "{}",
         "name": "Contextual_Information",
         "type": "\"string\""
        },
        {
         "metadata": "{}",
         "name": "Delay_in_Publication_Indicator",
         "type": "\"string\""
        },
        {
         "metadata": "{}",
         "name": "Record_ID",
         "type": "\"string\""
        },
        {
         "metadata": "{}",
         "name": "Dispute_Status_for_Publication",
         "type": "\"string\""
        },
        {
         "metadata": "{}",
         "name": "Related_Product_Indicator",
         "type": "\"string\""
        },
        {
         "metadata": "{}",
         "name": "Covered_or_Noncovered_Indicator_1",
         "type": "\"string\""
        },
        {
         "metadata": "{}",
         "name": "Indicate_Drug_or_Biological_or_Device_or_Medical_Supply_1",
         "type": "\"string\""
        },
        {
         "metadata": "{}",
         "name": "Product_Category_or_Therapeutic_Area_1",
         "type": "\"string\""
        },
        {
         "metadata": "{}",
         "name": "Name_of_Drug_or_Biological_or_Device_or_Medical_Supply_1",
         "type": "\"string\""
        },
        {
         "metadata": "{}",
         "name": "Associated_Drug_or_Biological_NDC_1",
         "type": "\"string\""
        },
        {
         "metadata": "{}",
         "name": "Associated_Device_or_Medical_Supply_PDI_1",
         "type": "\"string\""
        },
        {
         "metadata": "{}",
         "name": "Covered_or_Noncovered_Indicator_2",
         "type": "\"string\""
        },
        {
         "metadata": "{}",
         "name": "Indicate_Drug_or_Biological_or_Device_or_Medical_Supply_2",
         "type": "\"string\""
        },
        {
         "metadata": "{}",
         "name": "Product_Category_or_Therapeutic_Area_2",
         "type": "\"string\""
        },
        {
         "metadata": "{}",
         "name": "Name_of_Drug_or_Biological_or_Device_or_Medical_Supply_2",
         "type": "\"string\""
        },
        {
         "metadata": "{}",
         "name": "Associated_Drug_or_Biological_NDC_2",
         "type": "\"string\""
        },
        {
         "metadata": "{}",
         "name": "Associated_Device_or_Medical_Supply_PDI_2",
         "type": "\"string\""
        },
        {
         "metadata": "{}",
         "name": "Covered_or_Noncovered_Indicator_3",
         "type": "\"string\""
        },
        {
         "metadata": "{}",
         "name": "Indicate_Drug_or_Biological_or_Device_or_Medical_Supply_3",
         "type": "\"string\""
        },
        {
         "metadata": "{}",
         "name": "Product_Category_or_Therapeutic_Area_3",
         "type": "\"string\""
        },
        {
         "metadata": "{}",
         "name": "Name_of_Drug_or_Biological_or_Device_or_Medical_Supply_3",
         "type": "\"string\""
        },
        {
         "metadata": "{}",
         "name": "Associated_Drug_or_Biological_NDC_3",
         "type": "\"string\""
        },
        {
         "metadata": "{}",
         "name": "Associated_Device_or_Medical_Supply_PDI_3",
         "type": "\"string\""
        },
        {
         "metadata": "{}",
         "name": "Covered_or_Noncovered_Indicator_4",
         "type": "\"string\""
        },
        {
         "metadata": "{}",
         "name": "Indicate_Drug_or_Biological_or_Device_or_Medical_Supply_4",
         "type": "\"string\""
        },
        {
         "metadata": "{}",
         "name": "Product_Category_or_Therapeutic_Area_4",
         "type": "\"string\""
        },
        {
         "metadata": "{}",
         "name": "Name_of_Drug_or_Biological_or_Device_or_Medical_Supply_4",
         "type": "\"string\""
        },
        {
         "metadata": "{}",
         "name": "Associated_Drug_or_Biological_NDC_4",
         "type": "\"string\""
        },
        {
         "metadata": "{}",
         "name": "Associated_Device_or_Medical_Supply_PDI_4",
         "type": "\"string\""
        },
        {
         "metadata": "{}",
         "name": "Covered_or_Noncovered_Indicator_5",
         "type": "\"string\""
        },
        {
         "metadata": "{}",
         "name": "Indicate_Drug_or_Biological_or_Device_or_Medical_Supply_5",
         "type": "\"string\""
        },
        {
         "metadata": "{}",
         "name": "Product_Category_or_Therapeutic_Area_5",
         "type": "\"string\""
        },
        {
         "metadata": "{}",
         "name": "Name_of_Drug_or_Biological_or_Device_or_Medical_Supply_5",
         "type": "\"string\""
        },
        {
         "metadata": "{}",
         "name": "Associated_Drug_or_Biological_NDC_5",
         "type": "\"string\""
        },
        {
         "metadata": "{}",
         "name": "Associated_Device_or_Medical_Supply_PDI_5",
         "type": "\"string\""
        },
        {
         "metadata": "{}",
         "name": "Program_Year",
         "type": "\"integer\""
        },
        {
         "metadata": "{}",
         "name": "Payment_Publication_Date",
         "type": "\"string\""
        }
       ],
       "type": "table"
      }
     },
     "output_type": "display_data"
    }
   ],
   "source": [
    "#From the readme: This file contains the data set of General Payments reported for the 2023 program year. General Payments are defined as payments or other transfers of value made to a covered recipient (physician, non-physician practitioner or teaching hospital) that are not made in connection with a research agreement or research protocol. \n",
    "\n",
    "file_location = \"file:/tmp/openpayments_2023/OP_DTL_GNRL_PGYR2023_P01302025_01212025.csv\"\n",
    "\n",
    "# The applied options are for CSV files. For other file types, these will be ignored.\n",
    "general_payments = spark.read.option(\"delimiter\", \",\").option(\"header\", True).option(\"inferSchema\", True).csv(file_location)\n",
    "\n",
    "display(general_payments.limit(10))"
   ]
  },
  {
   "cell_type": "markdown",
   "metadata": {
    "application/vnd.databricks.v1+cell": {
     "cellMetadata": {},
     "inputWidgets": {},
     "nuid": "de7734e4-f515-4368-ac5a-7c72a47413f9",
     "showTitle": false,
     "tableResultSettingsMap": {},
     "title": ""
    }
   },
   "source": [
    "#Question 1\n",
    "## 1. What is the Nature of Payments with reimbursement amounts greater than $1,000 ordered by count?\n"
   ]
  },
  {
   "cell_type": "code",
   "execution_count": 0,
   "metadata": {
    "application/vnd.databricks.v1+cell": {
     "cellMetadata": {
      "byteLimit": 2048000,
      "rowLimit": 10000
     },
     "inputWidgets": {},
     "nuid": "5fe0491d-792f-4e27-9f5b-fc544a575d59",
     "showTitle": false,
     "tableResultSettingsMap": {},
     "title": ""
    }
   },
   "outputs": [],
   "source": [
    "temp_table_name = \"gen_pay\"\n",
    "\n",
    "general_payments.createOrReplaceTempView(temp_table_name)"
   ]
  },
  {
   "cell_type": "code",
   "execution_count": 0,
   "metadata": {
    "application/vnd.databricks.v1+cell": {
     "cellMetadata": {
      "byteLimit": 2048000,
      "implicitDf": true,
      "rowLimit": 10000
     },
     "inputWidgets": {},
     "nuid": "cc2087df-1fb2-4c2d-ae04-a7cb6ba6dde3",
     "showTitle": false,
     "tableResultSettingsMap": {},
     "title": ""
    }
   },
   "outputs": [
    {
     "output_type": "display_data",
     "data": {
      "text/html": [
       "<style scoped>\n",
       "  .table-result-container {\n",
       "    max-height: 300px;\n",
       "    overflow: auto;\n",
       "  }\n",
       "  table, th, td {\n",
       "    border: 1px solid black;\n",
       "    border-collapse: collapse;\n",
       "  }\n",
       "  th, td {\n",
       "    padding: 5px;\n",
       "  }\n",
       "  th {\n",
       "    text-align: left;\n",
       "  }\n",
       "</style><div class='table-result-container'><table class='table-result'><thead style='background-color: white'><tr><th>Nature_of_Payment_or_Transfer_of_Value</th><th>count(Nature_of_Payment_or_Transfer_of_Value)</th></tr></thead><tbody><tr><td>Entertainment</td><td>30</td></tr><tr><td>Charitable Contribution</td><td>239</td></tr><tr><td>Acquisitions</td><td>562</td></tr><tr><td>Gift</td><td>630</td></tr><tr><td>Food and Beverage</td><td>966</td></tr><tr><td>Debt forgiveness</td><td>1787</td></tr><tr><td>Long term medical supply or device loan</td><td>2930</td></tr><tr><td>Space rental or facility fees (teaching hospital only)</td><td>4917</td></tr><tr><td>Grant</td><td>4922</td></tr><tr><td>Compensation for serving as faculty or as a speaker for a medical education program</td><td>8658</td></tr><tr><td>Royalty or License</td><td>11534</td></tr><tr><td>Education</td><td>13376</td></tr><tr><td>Honoraria</td><td>13750</td></tr><tr><td>Travel and Lodging</td><td>24738</td></tr><tr><td>Consulting Fee</td><td>105228</td></tr><tr><td>Compensation for services other than consulting, including serving as faculty or as a speaker at a venue other than a continuing education program</td><td>164092</td></tr></tbody></table></div>"
      ]
     },
     "metadata": {
      "application/vnd.databricks.v1+output": {
       "addedWidgets": {},
       "aggData": [],
       "aggError": "",
       "aggOverflow": false,
       "aggSchema": [],
       "aggSeriesLimitReached": false,
       "aggType": "",
       "arguments": {},
       "columnCustomDisplayInfos": {},
       "data": [
        [
         "Entertainment",
         30
        ],
        [
         "Charitable Contribution",
         239
        ],
        [
         "Acquisitions",
         562
        ],
        [
         "Gift",
         630
        ],
        [
         "Food and Beverage",
         966
        ],
        [
         "Debt forgiveness",
         1787
        ],
        [
         "Long term medical supply or device loan",
         2930
        ],
        [
         "Space rental or facility fees (teaching hospital only)",
         4917
        ],
        [
         "Grant",
         4922
        ],
        [
         "Compensation for serving as faculty or as a speaker for a medical education program",
         8658
        ],
        [
         "Royalty or License",
         11534
        ],
        [
         "Education",
         13376
        ],
        [
         "Honoraria",
         13750
        ],
        [
         "Travel and Lodging",
         24738
        ],
        [
         "Consulting Fee",
         105228
        ],
        [
         "Compensation for services other than consulting, including serving as faculty or as a speaker at a venue other than a continuing education program",
         164092
        ]
       ],
       "datasetInfos": [],
       "dbfsResultPath": null,
       "isJsonSchema": true,
       "metadata": {},
       "overflow": false,
       "plotOptions": {
        "customPlotOptions": {},
        "displayType": "table",
        "pivotAggregation": null,
        "pivotColumns": null,
        "xColumns": null,
        "yColumns": null
       },
       "removedWidgets": [],
       "schema": [
        {
         "metadata": "{}",
         "name": "Nature_of_Payment_or_Transfer_of_Value",
         "type": "\"string\""
        },
        {
         "metadata": "{\"__autoGeneratedAlias\":\"true\"}",
         "name": "count(Nature_of_Payment_or_Transfer_of_Value)",
         "type": "\"long\""
        }
       ],
       "type": "table"
      }
     },
     "output_type": "display_data"
    }
   ],
   "source": [
    "%sql \n",
    "\n",
    "select Nature_of_Payment_or_Transfer_of_Value, count(Nature_of_Payment_or_Transfer_of_Value) \n",
    "from `gen_pay`\n",
    "where Total_Amount_of_Payment_USDollars > 1000\n",
    "group by Nature_of_Payment_or_Transfer_of_Value\n",
    "order by count(Nature_of_Payment_or_Transfer_of_Value)"
   ]
  },
  {
   "cell_type": "markdown",
   "metadata": {
    "application/vnd.databricks.v1+cell": {
     "cellMetadata": {},
     "inputWidgets": {},
     "nuid": "3bd3c834-9714-4b18-95fe-01a3e9d5e776",
     "showTitle": false,
     "tableResultSettingsMap": {},
     "title": ""
    }
   },
   "source": [
    "#Question 2\n",
    "## What are the top ten Nature of Payments by count?"
   ]
  },
  {
   "cell_type": "code",
   "execution_count": 0,
   "metadata": {
    "application/vnd.databricks.v1+cell": {
     "cellMetadata": {
      "byteLimit": 2048000,
      "implicitDf": true,
      "rowLimit": 10000
     },
     "inputWidgets": {},
     "nuid": "eceb9bc5-c87f-4307-8e77-f668e86e1af3",
     "showTitle": false,
     "tableResultSettingsMap": {},
     "title": ""
    }
   },
   "outputs": [
    {
     "output_type": "display_data",
     "data": {
      "text/html": [
       "<style scoped>\n",
       "  .table-result-container {\n",
       "    max-height: 300px;\n",
       "    overflow: auto;\n",
       "  }\n",
       "  table, th, td {\n",
       "    border: 1px solid black;\n",
       "    border-collapse: collapse;\n",
       "  }\n",
       "  th, td {\n",
       "    padding: 5px;\n",
       "  }\n",
       "  th {\n",
       "    text-align: left;\n",
       "  }\n",
       "</style><div class='table-result-container'><table class='table-result'><thead style='background-color: white'><tr><th>Nature_of_Payment_or_Transfer_of_Value</th><th>count(Nature_of_Payment_or_Transfer_of_Value)</th></tr></thead><tbody><tr><td>Food and Beverage</td><td>13378464</td></tr><tr><td>Travel and Lodging</td><td>545086</td></tr><tr><td>Compensation for services other than consulting, including serving as faculty or as a speaker at a venue other than a continuing education program</td><td>236628</td></tr><tr><td>Consulting Fee</td><td>170630</td></tr><tr><td>Education</td><td>161078</td></tr><tr><td>Gift</td><td>31786</td></tr><tr><td>Honoraria</td><td>20232</td></tr><tr><td>Royalty or License</td><td>15865</td></tr><tr><td>Compensation for serving as faculty or as a speaker for a medical education program</td><td>12234</td></tr><tr><td>Entertainment</td><td>7967</td></tr></tbody></table></div>"
      ]
     },
     "metadata": {
      "application/vnd.databricks.v1+output": {
       "addedWidgets": {},
       "aggData": [],
       "aggError": "",
       "aggOverflow": false,
       "aggSchema": [],
       "aggSeriesLimitReached": false,
       "aggType": "",
       "arguments": {},
       "columnCustomDisplayInfos": {},
       "data": [
        [
         "Food and Beverage",
         13378464
        ],
        [
         "Travel and Lodging",
         545086
        ],
        [
         "Compensation for services other than consulting, including serving as faculty or as a speaker at a venue other than a continuing education program",
         236628
        ],
        [
         "Consulting Fee",
         170630
        ],
        [
         "Education",
         161078
        ],
        [
         "Gift",
         31786
        ],
        [
         "Honoraria",
         20232
        ],
        [
         "Royalty or License",
         15865
        ],
        [
         "Compensation for serving as faculty or as a speaker for a medical education program",
         12234
        ],
        [
         "Entertainment",
         7967
        ]
       ],
       "datasetInfos": [],
       "dbfsResultPath": null,
       "isJsonSchema": true,
       "metadata": {},
       "overflow": false,
       "plotOptions": {
        "customPlotOptions": {},
        "displayType": "table",
        "pivotAggregation": null,
        "pivotColumns": null,
        "xColumns": null,
        "yColumns": null
       },
       "removedWidgets": [],
       "schema": [
        {
         "metadata": "{}",
         "name": "Nature_of_Payment_or_Transfer_of_Value",
         "type": "\"string\""
        },
        {
         "metadata": "{\"__autoGeneratedAlias\":\"true\"}",
         "name": "count(Nature_of_Payment_or_Transfer_of_Value)",
         "type": "\"long\""
        }
       ],
       "type": "table"
      }
     },
     "output_type": "display_data"
    }
   ],
   "source": [
    "%sql \n",
    "\n",
    "select Nature_of_Payment_or_Transfer_of_Value, count(Nature_of_Payment_or_Transfer_of_Value) \n",
    "from `gen_pay`\n",
    "group by Nature_of_Payment_or_Transfer_of_Value\n",
    "order by count(Nature_of_Payment_or_Transfer_of_Value) DESC\n",
    "LIMIT 10"
   ]
  },
  {
   "cell_type": "markdown",
   "metadata": {
    "application/vnd.databricks.v1+cell": {
     "cellMetadata": {},
     "inputWidgets": {},
     "nuid": "97ac4391-eb3f-48c8-a32d-ac3c01a7f259",
     "showTitle": false,
     "tableResultSettingsMap": {},
     "title": ""
    }
   },
   "source": [
    "#Question 3\n",
    "## What are the top ten Nature of Payments by total amount?"
   ]
  },
  {
   "cell_type": "code",
   "execution_count": 0,
   "metadata": {
    "application/vnd.databricks.v1+cell": {
     "cellMetadata": {
      "byteLimit": 2048000,
      "implicitDf": true,
      "rowLimit": 10000
     },
     "inputWidgets": {},
     "nuid": "b68adbe3-05c5-4630-8796-f702459e6e8a",
     "showTitle": false,
     "tableResultSettingsMap": {},
     "title": ""
    }
   },
   "outputs": [
    {
     "output_type": "display_data",
     "data": {
      "text/html": [
       "<style scoped>\n",
       "  .table-result-container {\n",
       "    max-height: 300px;\n",
       "    overflow: auto;\n",
       "  }\n",
       "  table, th, td {\n",
       "    border: 1px solid black;\n",
       "    border-collapse: collapse;\n",
       "  }\n",
       "  th, td {\n",
       "    padding: 5px;\n",
       "  }\n",
       "  th {\n",
       "    text-align: left;\n",
       "  }\n",
       "</style><div class='table-result-container'><table class='table-result'><thead style='background-color: white'><tr><th>Nature_of_Payment_or_Transfer_of_Value</th><th>sum(Total_Amount_of_Payment_USDollars)</th></tr></thead><tbody><tr><td>Royalty or License</td><td>1.19217456302E9</td></tr><tr><td>Compensation for services other than consulting, including serving as faculty or as a speaker at a venue other than a continuing education program</td><td>5.946326876500002E8</td></tr><tr><td>Consulting Fee</td><td>5.148558758999996E8</td></tr><tr><td>Food and Beverage</td><td>3.744878240099897E8</td></tr><tr><td>Travel and Lodging</td><td>1.7954842378000867E8</td></tr><tr><td>Grant</td><td>1.1188856182E8</td></tr><tr><td>Acquisitions</td><td>7.192577675999999E7</td></tr><tr><td>Education</td><td>6.469532594000257E7</td></tr><tr><td>Honoraria</td><td>5.585182388999997E7</td></tr><tr><td>Long term medical supply or device loan</td><td>3.009879195E7</td></tr></tbody></table></div>"
      ]
     },
     "metadata": {
      "application/vnd.databricks.v1+output": {
       "addedWidgets": {},
       "aggData": [],
       "aggError": "",
       "aggOverflow": false,
       "aggSchema": [],
       "aggSeriesLimitReached": false,
       "aggType": "",
       "arguments": {},
       "columnCustomDisplayInfos": {},
       "data": [
        [
         "Royalty or License",
         1.19217456302E9
        ],
        [
         "Compensation for services other than consulting, including serving as faculty or as a speaker at a venue other than a continuing education program",
         5.946326876500002E8
        ],
        [
         "Consulting Fee",
         5.148558758999996E8
        ],
        [
         "Food and Beverage",
         3.744878240099897E8
        ],
        [
         "Travel and Lodging",
         1.7954842378000867E8
        ],
        [
         "Grant",
         1.1188856182E8
        ],
        [
         "Acquisitions",
         7.192577675999999E7
        ],
        [
         "Education",
         6.469532594000257E7
        ],
        [
         "Honoraria",
         5.585182388999997E7
        ],
        [
         "Long term medical supply or device loan",
         3.009879195E7
        ]
       ],
       "datasetInfos": [],
       "dbfsResultPath": null,
       "isJsonSchema": true,
       "metadata": {},
       "overflow": false,
       "plotOptions": {
        "customPlotOptions": {},
        "displayType": "table",
        "pivotAggregation": null,
        "pivotColumns": null,
        "xColumns": null,
        "yColumns": null
       },
       "removedWidgets": [],
       "schema": [
        {
         "metadata": "{}",
         "name": "Nature_of_Payment_or_Transfer_of_Value",
         "type": "\"string\""
        },
        {
         "metadata": "{\"__autoGeneratedAlias\":\"true\"}",
         "name": "sum(Total_Amount_of_Payment_USDollars)",
         "type": "\"double\""
        }
       ],
       "type": "table"
      }
     },
     "output_type": "display_data"
    }
   ],
   "source": [
    "%sql \n",
    "\n",
    "select Nature_of_Payment_or_Transfer_of_Value, sum(Total_Amount_of_Payment_USDollars) \n",
    "from `gen_pay`\n",
    "group by Nature_of_Payment_or_Transfer_of_Value\n",
    "order by sum(Total_Amount_of_Payment_USDollars) DESC\n",
    "LIMIT 10"
   ]
  },
  {
   "cell_type": "markdown",
   "metadata": {
    "application/vnd.databricks.v1+cell": {
     "cellMetadata": {},
     "inputWidgets": {},
     "nuid": "140401f5-9ec6-40ee-92af-dbb49846eb53",
     "showTitle": false,
     "tableResultSettingsMap": {},
     "title": ""
    }
   },
   "source": [
    "#Question 4\n",
    "## What are the top ten physician specialties by total amount?\n"
   ]
  },
  {
   "cell_type": "code",
   "execution_count": 0,
   "metadata": {
    "application/vnd.databricks.v1+cell": {
     "cellMetadata": {
      "byteLimit": 2048000,
      "implicitDf": true,
      "rowLimit": 10000
     },
     "inputWidgets": {},
     "nuid": "5487c92e-38e9-4b48-927e-b4da49e47a4e",
     "showTitle": false,
     "tableResultSettingsMap": {},
     "title": ""
    }
   },
   "outputs": [
    {
     "output_type": "display_data",
     "data": {
      "text/html": [
       "<style scoped>\n",
       "  .table-result-container {\n",
       "    max-height: 300px;\n",
       "    overflow: auto;\n",
       "  }\n",
       "  table, th, td {\n",
       "    border: 1px solid black;\n",
       "    border-collapse: collapse;\n",
       "  }\n",
       "  th, td {\n",
       "    padding: 5px;\n",
       "  }\n",
       "  th {\n",
       "    text-align: left;\n",
       "  }\n",
       "</style><div class='table-result-container'><table class='table-result'><thead style='background-color: white'><tr><th>Covered_Recipient_Specialty_1</th><th>sum(Total_Amount_of_Payment_USDollars)</th></tr></thead><tbody><tr><td>Allopathic & Osteopathic Physicians|Orthopaedic Surgery</td><td>4.0345021308999825E8</td></tr><tr><td>Allopathic & Osteopathic Physicians|Internal Medicine</td><td>1.3136300307000063E8</td></tr><tr><td>Allopathic & Osteopathic Physicians|Psychiatry & Neurology|Neurology</td><td>8.979213626000014E7</td></tr><tr><td>Allopathic & Osteopathic Physicians|Neurological Surgery</td><td>8.608847857000013E7</td></tr><tr><td>Allopathic & Osteopathic Physicians|Dermatology</td><td>8.320264774000064E7</td></tr><tr><td>Allopathic & Osteopathic Physicians|Internal Medicine|Cardiovascular Disease</td><td>7.022084115000033E7</td></tr><tr><td>Allopathic & Osteopathic Physicians|Internal Medicine|Hematology & Oncology</td><td>6.946894121000056E7</td></tr><tr><td>Allopathic & Osteopathic Physicians|Orthopaedic Surgery|Adult Reconstructive Orthopaedic Surgery</td><td>6.6772837490000024E7</td></tr><tr><td>Allopathic & Osteopathic Physicians|Psychiatry & Neurology|Psychiatry</td><td>6.329825407000022E7</td></tr><tr><td>Allopathic & Osteopathic Physicians|Surgery</td><td>6.249362771000025E7</td></tr></tbody></table></div>"
      ]
     },
     "metadata": {
      "application/vnd.databricks.v1+output": {
       "addedWidgets": {},
       "aggData": [],
       "aggError": "",
       "aggOverflow": false,
       "aggSchema": [],
       "aggSeriesLimitReached": false,
       "aggType": "",
       "arguments": {},
       "columnCustomDisplayInfos": {},
       "data": [
        [
         "Allopathic & Osteopathic Physicians|Orthopaedic Surgery",
         4.0345021308999825E8
        ],
        [
         "Allopathic & Osteopathic Physicians|Internal Medicine",
         1.3136300307000063E8
        ],
        [
         "Allopathic & Osteopathic Physicians|Psychiatry & Neurology|Neurology",
         8.979213626000014E7
        ],
        [
         "Allopathic & Osteopathic Physicians|Neurological Surgery",
         8.608847857000013E7
        ],
        [
         "Allopathic & Osteopathic Physicians|Dermatology",
         8.320264774000064E7
        ],
        [
         "Allopathic & Osteopathic Physicians|Internal Medicine|Cardiovascular Disease",
         7.022084115000033E7
        ],
        [
         "Allopathic & Osteopathic Physicians|Internal Medicine|Hematology & Oncology",
         6.946894121000056E7
        ],
        [
         "Allopathic & Osteopathic Physicians|Orthopaedic Surgery|Adult Reconstructive Orthopaedic Surgery",
         6.6772837490000024E7
        ],
        [
         "Allopathic & Osteopathic Physicians|Psychiatry & Neurology|Psychiatry",
         6.329825407000022E7
        ],
        [
         "Allopathic & Osteopathic Physicians|Surgery",
         6.249362771000025E7
        ]
       ],
       "datasetInfos": [],
       "dbfsResultPath": null,
       "isJsonSchema": true,
       "metadata": {},
       "overflow": false,
       "plotOptions": {
        "customPlotOptions": {},
        "displayType": "table",
        "pivotAggregation": null,
        "pivotColumns": null,
        "xColumns": null,
        "yColumns": null
       },
       "removedWidgets": [],
       "schema": [
        {
         "metadata": "{}",
         "name": "Covered_Recipient_Specialty_1",
         "type": "\"string\""
        },
        {
         "metadata": "{\"__autoGeneratedAlias\":\"true\"}",
         "name": "sum(Total_Amount_of_Payment_USDollars)",
         "type": "\"double\""
        }
       ],
       "type": "table"
      }
     },
     "output_type": "display_data"
    }
   ],
   "source": [
    "%sql \n",
    "\n",
    "select Covered_Recipient_Specialty_1, sum(Total_Amount_of_Payment_USDollars) \n",
    "from `gen_pay`\n",
    "where Covered_Recipient_Type = \"Covered Recipient Physician\" and Covered_Recipient_Specialty_1 is not null \n",
    "group by Covered_Recipient_Specialty_1\n",
    "order by sum(Total_Amount_of_Payment_USDollars) DESC\n",
    "LIMIT 10"
   ]
  },
  {
   "cell_type": "markdown",
   "metadata": {
    "application/vnd.databricks.v1+cell": {
     "cellMetadata": {},
     "inputWidgets": {},
     "nuid": "f7c5db4d-edbd-4bfb-9845-18728af01375",
     "showTitle": false,
     "tableResultSettingsMap": {},
     "title": ""
    }
   },
   "source": [
    "#Question 5\n",
    "## Who are the top ten physicians by total amount?"
   ]
  },
  {
   "cell_type": "code",
   "execution_count": 0,
   "metadata": {
    "application/vnd.databricks.v1+cell": {
     "cellMetadata": {
      "byteLimit": 2048000,
      "implicitDf": true,
      "rowLimit": 10000
     },
     "inputWidgets": {},
     "nuid": "2d765d66-5ffb-4cf1-bba7-d559b4a3326b",
     "showTitle": false,
     "tableResultSettingsMap": {},
     "title": ""
    }
   },
   "outputs": [
    {
     "output_type": "display_data",
     "data": {
      "text/html": [
       "<style scoped>\n",
       "  .table-result-container {\n",
       "    max-height: 300px;\n",
       "    overflow: auto;\n",
       "  }\n",
       "  table, th, td {\n",
       "    border: 1px solid black;\n",
       "    border-collapse: collapse;\n",
       "  }\n",
       "  th, td {\n",
       "    padding: 5px;\n",
       "  }\n",
       "  th {\n",
       "    text-align: left;\n",
       "  }\n",
       "</style><div class='table-result-container'><table class='table-result'><thead style='background-color: white'><tr><th>physician</th><th>total_amount</th></tr></thead><tbody><tr><td>BRADFORD H HACK</td><td>4846659.0600000005</td></tr><tr><td>DWIGHT D KOEBERL</td><td>3944327.67</td></tr><tr><td>CHARLES H. KOH</td><td>3473763.27</td></tr><tr><td>DANIEL J BERRY</td><td>3227179.3499999987</td></tr><tr><td>John Kenneth Jenkins</td><td>2868985.15</td></tr><tr><td>CHITRANJAN S. RANAWAT</td><td>2846255.71</td></tr><tr><td>ADOLPH V. LOMBARDI</td><td>2742951.5599999996</td></tr><tr><td>JOHN J CALLAGHAN</td><td>2683841.01</td></tr><tr><td>THOMAS K FEHRING</td><td>2617029.0499999993</td></tr></tbody></table></div>"
      ]
     },
     "metadata": {
      "application/vnd.databricks.v1+output": {
       "addedWidgets": {},
       "aggData": [],
       "aggError": "",
       "aggOverflow": false,
       "aggSchema": [],
       "aggSeriesLimitReached": false,
       "aggType": "",
       "arguments": {},
       "columnCustomDisplayInfos": {},
       "data": [
        [
         "BRADFORD H HACK",
         4846659.0600000005
        ],
        [
         "DWIGHT D KOEBERL",
         3944327.67
        ],
        [
         "CHARLES H. KOH",
         3473763.27
        ],
        [
         "DANIEL J BERRY",
         3227179.3499999987
        ],
        [
         "John Kenneth Jenkins",
         2868985.15
        ],
        [
         "CHITRANJAN S. RANAWAT",
         2846255.71
        ],
        [
         "ADOLPH V. LOMBARDI",
         2742951.5599999996
        ],
        [
         "JOHN J CALLAGHAN",
         2683841.01
        ],
        [
         "THOMAS K FEHRING",
         2617029.0499999993
        ]
       ],
       "datasetInfos": [],
       "dbfsResultPath": null,
       "isJsonSchema": true,
       "metadata": {},
       "overflow": false,
       "plotOptions": {
        "customPlotOptions": {},
        "displayType": "table",
        "pivotAggregation": null,
        "pivotColumns": null,
        "xColumns": null,
        "yColumns": null
       },
       "removedWidgets": [],
       "schema": [
        {
         "metadata": "{}",
         "name": "physician",
         "type": "\"string\""
        },
        {
         "metadata": "{}",
         "name": "total_amount",
         "type": "\"double\""
        }
       ],
       "type": "table"
      }
     },
     "output_type": "display_data"
    }
   ],
   "source": [
    "%sql \n",
    "\n",
    "select physician, total_amount \n",
    "from (\n",
    "  select CONCAT(Covered_Recipient_First_Name, \" \", Covered_Recipient_Middle_Name, \" \", Covered_Recipient_Last_Name) as physician, sum(Total_Amount_of_Payment_USDollars) as total_amount\n",
    "  from `gen_pay`\n",
    "  where Covered_Recipient_Type = \"Covered Recipient Physician\"\n",
    "  group by physician\n",
    "  order by total_amount DESC\n",
    "  LIMIT 10\n",
    ")\n",
    "where physician is not null"
   ]
  }
 ],
 "metadata": {
  "application/vnd.databricks.v1+notebook": {
   "computePreferences": null,
   "dashboards": [],
   "environmentMetadata": {
    "base_environment": "",
    "client": "1"
   },
   "language": "python",
   "notebookMetadata": {
    "mostRecentlyExecutedCommandWithImplicitDF": {
     "commandId": 3134536412984753,
     "dataframes": [
      "_sqldf"
     ]
    },
    "pythonIndentUnit": 4
   },
   "notebookName": "Week 07 Assignment Final",
   "widgets": {}
  }
 },
 "nbformat": 4,
 "nbformat_minor": 0
}
